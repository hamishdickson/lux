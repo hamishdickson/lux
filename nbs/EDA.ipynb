{
 "cells": [
  {
   "cell_type": "code",
   "execution_count": 12,
   "source": [
    "import random\n",
    "from stable_baselines3 import PPO  # pip install stable-baselines3\n",
    "from luxai2021.env.lux_env import LuxEnvironment, SaveReplayAndModelCallback\n",
    "from luxai2021.env.agent import Agent, AgentWithModel\n",
    "from luxai2021.game.game import Game\n",
    "from luxai2021.game.actions import *\n",
    "from luxai2021.game.constants import LuxMatchConfigs_Default\n",
    "from functools import partial  # pip install functools\n",
    "import numpy as np\n",
    "from gym import spaces\n",
    "import time\n",
    "import sys"
   ],
   "outputs": [],
   "metadata": {}
  },
  {
   "cell_type": "code",
   "execution_count": 13,
   "source": [
    "configs = LuxMatchConfigs_Default\n",
    "configs"
   ],
   "outputs": [
    {
     "output_type": "execute_result",
     "data": {
      "text/plain": [
       "{'mapType': 'random',\n",
       " 'storeReplay': True,\n",
       " 'seed': None,\n",
       " 'debug': False,\n",
       " 'debugDelay': 500,\n",
       " 'runProfiler': False,\n",
       " 'compressReplay': False,\n",
       " 'debugAnnotations': False,\n",
       " 'statefulReplay': False,\n",
       " 'parameters': {'DAY_LENGTH': 30,\n",
       "  'NIGHT_LENGTH': 10,\n",
       "  'MAX_DAYS': 360,\n",
       "  'LIGHT_UPKEEP': {'CITY': 23, 'WORKER': 4, 'CART': 10},\n",
       "  'WOOD_GROWTH_RATE': 1.025,\n",
       "  'MAX_WOOD_AMOUNT': 500,\n",
       "  'CITY_BUILD_COST': 100,\n",
       "  'CITY_ADJACENCY_BONUS': 5,\n",
       "  'RESOURCE_CAPACITY': {'WORKER': 100, 'CART': 2000},\n",
       "  'WORKER_COLLECTION_RATE': {'WOOD': 20, 'COAL': 5, 'URANIUM': 2},\n",
       "  'RESOURCE_TO_FUEL_RATE': {'WOOD': 1, 'COAL': 10, 'URANIUM': 40},\n",
       "  'RESEARCH_REQUIREMENTS': {'COAL': 50, 'URANIUM': 200},\n",
       "  'CITY_ACTION_COOLDOWN': 10,\n",
       "  'UNIT_ACTION_COOLDOWN': {'CART': 3, 'WORKER': 2},\n",
       "  'MAX_ROAD': 6,\n",
       "  'MIN_ROAD': 0,\n",
       "  'CART_ROAD_DEVELOPMENT_RATE': 0.75,\n",
       "  'PILLAGE_RATE': 0.5}}"
      ]
     },
     "metadata": {},
     "execution_count": 13
    }
   ],
   "metadata": {}
  },
  {
   "cell_type": "code",
   "execution_count": 17,
   "source": [
    "opponent = Agent()\n",
    "player = Agent()\n",
    "\n",
    "env = LuxEnvironment(configs=configs,\n",
    "                     learning_agent=player,\n",
    "                     opponent_agent=opponent)\n",
    "\n",
    "# env.reset()"
   ],
   "outputs": [
    {
     "output_type": "stream",
     "name": "stderr",
     "text": [
      "Running in inference-only mode.\n"
     ]
    }
   ],
   "metadata": {}
  },
  {
   "cell_type": "code",
   "execution_count": 18,
   "source": [
    "obs = env.reset()"
   ],
   "outputs": [
    {
     "output_type": "error",
     "ename": "StopIteration",
     "evalue": "",
     "traceback": [
      "\u001b[0;31m---------------------------------------------------------------------------\u001b[0m",
      "\u001b[0;31mStopIteration\u001b[0m                             Traceback (most recent call last)",
      "\u001b[0;32m<ipython-input-18-a57416bd8216>\u001b[0m in \u001b[0;36m<module>\u001b[0;34m\u001b[0m\n\u001b[0;32m----> 1\u001b[0;31m \u001b[0mobs\u001b[0m \u001b[0;34m=\u001b[0m \u001b[0menv\u001b[0m\u001b[0;34m.\u001b[0m\u001b[0mreset\u001b[0m\u001b[0;34m(\u001b[0m\u001b[0;34m)\u001b[0m\u001b[0;34m\u001b[0m\u001b[0;34m\u001b[0m\u001b[0m\n\u001b[0m",
      "\u001b[0;32m~/miniconda3/envs/kaggling/lib/python3.8/site-packages/luxai2021-0.1.0-py3.8.egg/luxai2021/env/lux_env.py\u001b[0m in \u001b[0;36mreset\u001b[0;34m(self)\u001b[0m\n\u001b[1;32m    176\u001b[0m \u001b[0;34m\u001b[0m\u001b[0m\n\u001b[1;32m    177\u001b[0m         \u001b[0mself\u001b[0m\u001b[0;34m.\u001b[0m\u001b[0mmatch_generator\u001b[0m \u001b[0;34m=\u001b[0m \u001b[0mself\u001b[0m\u001b[0;34m.\u001b[0m\u001b[0mmatch_controller\u001b[0m\u001b[0;34m.\u001b[0m\u001b[0mrun_to_next_observation\u001b[0m\u001b[0;34m(\u001b[0m\u001b[0;34m)\u001b[0m\u001b[0;34m\u001b[0m\u001b[0;34m\u001b[0m\u001b[0m\n\u001b[0;32m--> 178\u001b[0;31m         \u001b[0;34m(\u001b[0m\u001b[0munit\u001b[0m\u001b[0;34m,\u001b[0m \u001b[0mcity_tile\u001b[0m\u001b[0;34m,\u001b[0m \u001b[0mteam\u001b[0m\u001b[0;34m,\u001b[0m \u001b[0mis_new_turn\u001b[0m\u001b[0;34m)\u001b[0m \u001b[0;34m=\u001b[0m \u001b[0mnext\u001b[0m\u001b[0;34m(\u001b[0m\u001b[0mself\u001b[0m\u001b[0;34m.\u001b[0m\u001b[0mmatch_generator\u001b[0m\u001b[0;34m)\u001b[0m\u001b[0;34m\u001b[0m\u001b[0;34m\u001b[0m\u001b[0m\n\u001b[0m\u001b[1;32m    179\u001b[0m \u001b[0;34m\u001b[0m\u001b[0m\n\u001b[1;32m    180\u001b[0m         \u001b[0mobs\u001b[0m \u001b[0;34m=\u001b[0m \u001b[0mself\u001b[0m\u001b[0;34m.\u001b[0m\u001b[0mlearning_agent\u001b[0m\u001b[0;34m.\u001b[0m\u001b[0mget_observation\u001b[0m\u001b[0;34m(\u001b[0m\u001b[0mself\u001b[0m\u001b[0;34m.\u001b[0m\u001b[0mgame\u001b[0m\u001b[0;34m,\u001b[0m \u001b[0munit\u001b[0m\u001b[0;34m,\u001b[0m \u001b[0mcity_tile\u001b[0m\u001b[0;34m,\u001b[0m \u001b[0mteam\u001b[0m\u001b[0;34m,\u001b[0m \u001b[0mis_new_turn\u001b[0m\u001b[0;34m)\u001b[0m\u001b[0;34m\u001b[0m\u001b[0;34m\u001b[0m\u001b[0m\n",
      "\u001b[0;31mStopIteration\u001b[0m: "
     ]
    }
   ],
   "metadata": {}
  },
  {
   "cell_type": "code",
   "execution_count": null,
   "source": [],
   "outputs": [],
   "metadata": {}
  }
 ],
 "metadata": {
  "orig_nbformat": 4,
  "language_info": {
   "name": "python",
   "version": "3.8.10",
   "mimetype": "text/x-python",
   "codemirror_mode": {
    "name": "ipython",
    "version": 3
   },
   "pygments_lexer": "ipython3",
   "nbconvert_exporter": "python",
   "file_extension": ".py"
  },
  "kernelspec": {
   "name": "python3",
   "display_name": "Python 3.8.10 64-bit"
  },
  "interpreter": {
   "hash": "471cd34ee96d105beb1a633f29f3cffccb623148640ba092458f14cbc9d57635"
  }
 },
 "nbformat": 4,
 "nbformat_minor": 2
}